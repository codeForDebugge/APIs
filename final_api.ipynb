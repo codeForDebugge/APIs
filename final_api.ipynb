{
 "cells": [
  {
   "cell_type": "code",
   "execution_count": 1,
   "id": "joint-liberty",
   "metadata": {},
   "outputs": [
    {
     "name": "stderr",
     "output_type": "stream",
     "text": [
      "Using TensorFlow backend.\n"
     ]
    }
   ],
   "source": [
    "from keras.preprocessing import image\n",
    "import numpy as np\n",
    "import os\n",
    "from keras.models import load_model"
   ]
  },
  {
   "cell_type": "code",
   "execution_count": 2,
   "id": "serious-brook",
   "metadata": {},
   "outputs": [],
   "source": [
    "folders=os.listdir('datasets/train/')\n",
    "img_to_dict={}\n",
    "img_to_label={}\n",
    "images=[]\n",
    "labels=[]\n",
    "for i,f in enumerate(folders):\n",
    "    img_to_dict[i]=f\n",
    "    img_to_label[f]=i"
   ]
  },
  {
   "cell_type": "code",
   "execution_count": 3,
   "id": "residential-lincoln",
   "metadata": {},
   "outputs": [
    {
     "data": {
      "text/plain": [
       "{0: 'tibetan_mastiff',\n",
       " 1: 'pug',\n",
       " 2: 'malamute',\n",
       " 3: 'chihuahua',\n",
       " 4: 'doberman',\n",
       " 5: 'french_bulldog',\n",
       " 6: 'golden_retriever',\n",
       " 7: 'saint_bernard',\n",
       " 8: 'beagle',\n",
       " 9: 'scottish_deerhound'}"
      ]
     },
     "execution_count": 3,
     "metadata": {},
     "output_type": "execute_result"
    }
   ],
   "source": [
    "img_to_dict"
   ]
  },
  {
   "cell_type": "code",
   "execution_count": 4,
   "id": "documentary-algeria",
   "metadata": {},
   "outputs": [],
   "source": [
    "def prediction(img):\n",
    "        img=image.load_img(img,target_size=((224,224)))\n",
    "        imgFinal=image.img_to_array(img)\n",
    "        imag=np.array(imgFinal)\n",
    "        imag=imag.reshape((-1,224,224,3))\n",
    "        model=load_model(\"mod.h5\")\n",
    "        p=model.predict(imag)\n",
    "        s=np.max(p)\n",
    "        i=p=np.argmax(p)\n",
    "        return s,img_to_dict[i]"
   ]
  },
  {
   "cell_type": "code",
   "execution_count": null,
   "id": "according-facial",
   "metadata": {},
   "outputs": [
    {
     "name": "stdout",
     "output_type": "stream",
     "text": [
      "tibetan_mastiff\n",
      "1\n",
      "2\n",
      "pug\n",
      "3\n",
      "4\n",
      "malamute\n",
      "5\n",
      "6\n",
      "chihuahua\n",
      "7\n",
      "8\n",
      "doberman\n",
      "9\n",
      "10\n",
      "french_bulldog\n",
      "11\n",
      "12\n",
      "golden_retriever\n",
      "13\n",
      "14\n",
      "saint_bernard\n",
      "15\n",
      "16\n"
     ]
    }
   ],
   "source": [
    "folders=os.listdir('datasets/test/')\n",
    "y_act=[]\n",
    "y_pred=[]\n",
    "y_score=[]\n",
    "cnt=0\n",
    "for f in folders:\n",
    "    print(f)\n",
    "    path=os.path.join('datasets/test/',f)\n",
    "    for img in os.listdir(path):\n",
    "        y_act.append(img_to_label[f])\n",
    "        cnt=cnt+1\n",
    "        print(cnt)\n",
    "        path2=os.path.join(path,img)\n",
    "        s,p=prediction(path2)\n",
    "        y_score.append(s)\n",
    "        y_pred.append(img_to_label[p])"
   ]
  },
  {
   "cell_type": "code",
   "execution_count": 3,
   "id": "frequent-drain",
   "metadata": {},
   "outputs": [],
   "source": [
    "from sklearn.metrics import confusion_matrix,f1_score,roc_auc_score,accuracy_score"
   ]
  },
  {
   "cell_type": "code",
   "execution_count": 4,
   "id": "mental-investor",
   "metadata": {},
   "outputs": [
    {
     "ename": "NameError",
     "evalue": "name 'y_act' is not defined",
     "output_type": "error",
     "traceback": [
      "\u001b[0;31m---------------------------------------------------------------------------\u001b[0m",
      "\u001b[0;31mNameError\u001b[0m                                 Traceback (most recent call last)",
      "\u001b[0;32m<ipython-input-4-fe95710d93e3>\u001b[0m in \u001b[0;36m<module>\u001b[0;34m\u001b[0m\n\u001b[0;32m----> 1\u001b[0;31m \u001b[0mf1_score_result\u001b[0m\u001b[0;34m=\u001b[0m\u001b[0mf1_score\u001b[0m\u001b[0;34m(\u001b[0m\u001b[0my_act\u001b[0m\u001b[0;34m,\u001b[0m\u001b[0my_pred\u001b[0m\u001b[0;34m,\u001b[0m\u001b[0maverage\u001b[0m\u001b[0;34m=\u001b[0m\u001b[0;34m\"macro\"\u001b[0m\u001b[0;34m)\u001b[0m\u001b[0;34m\u001b[0m\u001b[0m\n\u001b[0m",
      "\u001b[0;31mNameError\u001b[0m: name 'y_act' is not defined"
     ]
    }
   ],
   "source": [
    "f1_score_result=f1_score(y_act,y_pred,average=\"macro\")"
   ]
  },
  {
   "cell_type": "code",
   "execution_count": null,
   "id": "pediatric-frank",
   "metadata": {},
   "outputs": [],
   "source": [
    "confusion_metrics_result=confusion_matrix(y_act,y_pred)"
   ]
  },
  {
   "cell_type": "code",
   "execution_count": null,
   "id": "worthy-geography",
   "metadata": {},
   "outputs": [],
   "source": [
    "confusion_metrics_result"
   ]
  },
  {
   "cell_type": "code",
   "execution_count": null,
   "id": "hungry-windsor",
   "metadata": {},
   "outputs": [],
   "source": [
    "roc_auc_score_result=roc_auc_score(y_act,y_score)"
   ]
  },
  {
   "cell_type": "code",
   "execution_count": null,
   "id": "appreciated-gamma",
   "metadata": {},
   "outputs": [],
   "source": [
    "print(roc_auc_score_result)"
   ]
  },
  {
   "cell_type": "code",
   "execution_count": null,
   "id": "stone-sunset",
   "metadata": {},
   "outputs": [],
   "source": []
  },
  {
   "cell_type": "code",
   "execution_count": null,
   "id": "assured-stomach",
   "metadata": {},
   "outputs": [],
   "source": []
  }
 ],
 "metadata": {
  "kernelspec": {
   "display_name": "Python 3",
   "language": "python",
   "name": "python3"
  },
  "language_info": {
   "codemirror_mode": {
    "name": "ipython",
    "version": 3
   },
   "file_extension": ".py",
   "mimetype": "text/x-python",
   "name": "python",
   "nbconvert_exporter": "python",
   "pygments_lexer": "ipython3",
   "version": "3.7.0"
  }
 },
 "nbformat": 4,
 "nbformat_minor": 5
}
